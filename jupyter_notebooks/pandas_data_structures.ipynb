{
 "cells": [
  {
   "cell_type": "markdown",
   "id": "6948bfa1-8168-48bc-994e-91adb4dde1bc",
   "metadata": {},
   "source": [
    "Pandas Data Structure Practice\n",
    "Date: 2024_04_18"
   ]
  },
  {
   "cell_type": "code",
   "execution_count": 1,
   "id": "6546bde8-809e-4c0f-8a08-d82e41789660",
   "metadata": {},
   "outputs": [],
   "source": [
    "import pandas as pd\n",
    "import numpy as np"
   ]
  },
  {
   "cell_type": "code",
   "execution_count": 2,
   "id": "5f4ab03d-549b-4a5d-addd-932dc90b363e",
   "metadata": {},
   "outputs": [
    {
     "data": {
      "text/plain": [
       "0    6.3\n",
       "dtype: float64"
      ]
     },
     "execution_count": 2,
     "metadata": {},
     "output_type": "execute_result"
    }
   ],
   "source": [
    "# create a Series object using a scalar\n",
    "# Series object: a one dimensional array with axis labels\n",
    "# Series(): constructed using data that is of array-like, Iterable, dictionary, or scalar value.\n",
    "pd.Series(6.3)"
   ]
  },
  {
   "cell_type": "code",
   "execution_count": 3,
   "id": "a7ebac49-1024-4737-a0d6-5f474f91c1f3",
   "metadata": {},
   "outputs": [
    {
     "data": {
      "text/plain": [
       "0    0\n",
       "1    1\n",
       "2    2\n",
       "3    3\n",
       "4    4\n",
       "5    5\n",
       "dtype: int64"
      ]
     },
     "execution_count": 3,
     "metadata": {},
     "output_type": "execute_result"
    }
   ],
   "source": [
    "# create a Series object using a list\n",
    "pd.Series([0,1,2,3,4,5])"
   ]
  },
  {
   "cell_type": "code",
   "execution_count": 6,
   "id": "9fbce51d-7a81-435a-bde9-6243f39539c9",
   "metadata": {},
   "outputs": [
    {
     "name": "stdout",
     "output_type": "stream",
     "text": [
      "0    10\n",
      "1    20\n",
      "2    30\n",
      "3    40\n",
      "4    50\n",
      "dtype: int64\n"
     ]
    }
   ],
   "source": [
    "# create a Series object using an ndarray\n",
    "# ndarray: an array object representing a multi-dimensional homogenous array of fixed-size items\n",
    "\n",
    "# Create a numpy array\n",
    "data = np.array([10, 20, 30, 40, 50])\n",
    "\n",
    "# Create a pandas Series from the numpy array\n",
    "series = pd.Series(data)\n",
    "\n",
    "# Print the Series\n",
    "print(series)\n",
    "\n"
   ]
  },
  {
   "cell_type": "code",
   "execution_count": 10,
   "id": "7be2c5b1-fc6c-4ba7-9e54-b8a3206b5146",
   "metadata": {},
   "outputs": [
    {
     "name": "stdout",
     "output_type": "stream",
     "text": [
      "name     PyDataPDX\n",
      "city      Portland\n",
      "state       Oregon\n",
      "dtype: object\n"
     ]
    }
   ],
   "source": [
    "# create a Series using a dictionary\n",
    "series = pd.Series({\"name\": \"PyDataPDX\", \"city\": \"Portland\", \"state\": \"Oregon\"})\n",
    "print(series)"
   ]
  },
  {
   "cell_type": "code",
   "execution_count": 11,
   "id": "81e80063-ac3e-4e4d-b791-df0dbc525db4",
   "metadata": {},
   "outputs": [
    {
     "data": {
      "text/plain": [
       "'PyDataPDX'"
      ]
     },
     "execution_count": 11,
     "metadata": {},
     "output_type": "execute_result"
    }
   ],
   "source": [
    "# access the \"name\" index of 'series'\n",
    "series[\"name\"]"
   ]
  },
  {
   "cell_type": "code",
   "execution_count": 15,
   "id": "95966d61-253c-4cf7-a5d2-3ee388f4efbb",
   "metadata": {},
   "outputs": [
    {
     "data": {
      "text/html": [
       "<div>\n",
       "<style scoped>\n",
       "    .dataframe tbody tr th:only-of-type {\n",
       "        vertical-align: middle;\n",
       "    }\n",
       "\n",
       "    .dataframe tbody tr th {\n",
       "        vertical-align: top;\n",
       "    }\n",
       "\n",
       "    .dataframe thead th {\n",
       "        text-align: right;\n",
       "    }\n",
       "</style>\n",
       "<table border=\"1\" class=\"dataframe\">\n",
       "  <thead>\n",
       "    <tr style=\"text-align: right;\">\n",
       "      <th></th>\n",
       "      <th>A</th>\n",
       "      <th>B</th>\n",
       "      <th>C</th>\n",
       "    </tr>\n",
       "  </thead>\n",
       "  <tbody>\n",
       "    <tr>\n",
       "      <th>Order</th>\n",
       "      <td>1</td>\n",
       "      <td>2</td>\n",
       "      <td>3</td>\n",
       "    </tr>\n",
       "    <tr>\n",
       "      <th>?Vowel</th>\n",
       "      <td>True</td>\n",
       "      <td>False</td>\n",
       "      <td>False</td>\n",
       "    </tr>\n",
       "    <tr>\n",
       "      <th>Example of Fruit</th>\n",
       "      <td>Apple</td>\n",
       "      <td>Banana</td>\n",
       "      <td>Cantaloupe</td>\n",
       "    </tr>\n",
       "  </tbody>\n",
       "</table>\n",
       "</div>"
      ],
      "text/plain": [
       "                      A       B           C\n",
       "Order                 1       2           3\n",
       "?Vowel             True   False       False\n",
       "Example of Fruit  Apple  Banana  Cantaloupe"
      ]
     },
     "execution_count": 15,
     "metadata": {},
     "output_type": "execute_result"
    }
   ],
   "source": [
    "# create a DataFrame using a list of Series objects\n",
    "# each series object is created using a dictionary with the same keys which become the Index\n",
    "# of the DataFrame columns\n",
    "# The names of the Series objects become the index for the DataFrame rows.\n",
    "# DataFrame: 2-dimensional, size-mutable, and potentially heterogeneous tabular data\n",
    "a = pd.Series({ \"A\": 1, \"B\": 2, \"C\": 3}, name=\"Order\")\n",
    "b = pd.Series({\"A\": True, \"B\": False, \"C\": False}, name=\"?Vowel\")\n",
    "c = pd.Series({\"A\": \"Apple\", \"B\": \"Banana\", \"C\": \"Cantaloupe\"}, name=\"Example of Fruit\")\n",
    "df =pd.DataFrame([a,b,c])\n",
    "df\n"
   ]
  },
  {
   "cell_type": "code",
   "execution_count": 16,
   "id": "0a1ac747-f429-4a3a-b74a-1eaf687dcf89",
   "metadata": {},
   "outputs": [
    {
     "data": {
      "text/html": [
       "<div>\n",
       "<style scoped>\n",
       "    .dataframe tbody tr th:only-of-type {\n",
       "        vertical-align: middle;\n",
       "    }\n",
       "\n",
       "    .dataframe tbody tr th {\n",
       "        vertical-align: top;\n",
       "    }\n",
       "\n",
       "    .dataframe thead th {\n",
       "        text-align: right;\n",
       "    }\n",
       "</style>\n",
       "<table border=\"1\" class=\"dataframe\">\n",
       "  <thead>\n",
       "    <tr style=\"text-align: right;\">\n",
       "      <th></th>\n",
       "      <th>Order</th>\n",
       "      <th>?Vowel</th>\n",
       "      <th>Example of Fruit</th>\n",
       "    </tr>\n",
       "  </thead>\n",
       "  <tbody>\n",
       "    <tr>\n",
       "      <th>A</th>\n",
       "      <td>1</td>\n",
       "      <td>True</td>\n",
       "      <td>Apple</td>\n",
       "    </tr>\n",
       "    <tr>\n",
       "      <th>B</th>\n",
       "      <td>2</td>\n",
       "      <td>False</td>\n",
       "      <td>Banana</td>\n",
       "    </tr>\n",
       "    <tr>\n",
       "      <th>C</th>\n",
       "      <td>3</td>\n",
       "      <td>False</td>\n",
       "      <td>Cantaloupe</td>\n",
       "    </tr>\n",
       "  </tbody>\n",
       "</table>\n",
       "</div>"
      ],
      "text/plain": [
       "  Order ?Vowel Example of Fruit\n",
       "A     1   True            Apple\n",
       "B     2  False           Banana\n",
       "C     3  False       Cantaloupe"
      ]
     },
     "execution_count": 16,
     "metadata": {},
     "output_type": "execute_result"
    }
   ],
   "source": [
    "# To change rows to columns and columns to row\n",
    "df.T"
   ]
  },
  {
   "cell_type": "code",
   "execution_count": 18,
   "id": "ac7eadbb-3333-49fe-9623-b1bc5e876627",
   "metadata": {},
   "outputs": [
    {
     "data": {
      "text/html": [
       "<div>\n",
       "<style scoped>\n",
       "    .dataframe tbody tr th:only-of-type {\n",
       "        vertical-align: middle;\n",
       "    }\n",
       "\n",
       "    .dataframe tbody tr th {\n",
       "        vertical-align: top;\n",
       "    }\n",
       "\n",
       "    .dataframe thead th {\n",
       "        text-align: right;\n",
       "    }\n",
       "</style>\n",
       "<table border=\"1\" class=\"dataframe\">\n",
       "  <thead>\n",
       "    <tr style=\"text-align: right;\">\n",
       "      <th></th>\n",
       "      <th>Order</th>\n",
       "      <th>?Vowel</th>\n",
       "      <th>Example of fruit</th>\n",
       "    </tr>\n",
       "  </thead>\n",
       "  <tbody>\n",
       "    <tr>\n",
       "      <th>A</th>\n",
       "      <td>1</td>\n",
       "      <td>True</td>\n",
       "      <td>Apple</td>\n",
       "    </tr>\n",
       "    <tr>\n",
       "      <th>B</th>\n",
       "      <td>2</td>\n",
       "      <td>False</td>\n",
       "      <td>Banana</td>\n",
       "    </tr>\n",
       "    <tr>\n",
       "      <th>C</th>\n",
       "      <td>3</td>\n",
       "      <td>False</td>\n",
       "      <td>Cantaloupe</td>\n",
       "    </tr>\n",
       "  </tbody>\n",
       "</table>\n",
       "</div>"
      ],
      "text/plain": [
       "   Order  ?Vowel Example of fruit\n",
       "A      1    True            Apple\n",
       "B      2   False           Banana\n",
       "C      3   False       Cantaloupe"
      ]
     },
     "execution_count": 18,
     "metadata": {},
     "output_type": "execute_result"
    }
   ],
   "source": [
    "# Create a dataframe from a dictionary of dictionaries\n",
    "# Keys of the final dictionary become the column index\n",
    "a = { \"A\": 1, \"B\": 2, \"C\": 3}\n",
    "b = {\"A\": True, \"B\": False, \"C\": False}\n",
    "c = {\"A\": \"Apple\", \"B\": \"Banana\", \"C\": \"Cantaloupe\"}\n",
    "df = pd.DataFrame({ \"Order\": a, \"?Vowel\": b, \"Example of fruit\": c})\n",
    "df"
   ]
  },
  {
   "cell_type": "code",
   "execution_count": 19,
   "id": "861c11dd-de86-4e4d-a11b-40ca89d71ccf",
   "metadata": {},
   "outputs": [
    {
     "data": {
      "text/plain": [
       "A    1\n",
       "B    2\n",
       "C    3\n",
       "Name: Order, dtype: int64"
      ]
     },
     "execution_count": 19,
     "metadata": {},
     "output_type": "execute_result"
    }
   ],
   "source": [
    "# access a column by passing a column name to the DataFrame with square brackets\n",
    "# only columns can be accessed this way and rows will give you an error\n",
    "df[\"Order\"]"
   ]
  },
  {
   "cell_type": "code",
   "execution_count": 20,
   "id": "22e976e4-20a0-467b-ad7c-0baf54e5a14b",
   "metadata": {},
   "outputs": [
    {
     "data": {
      "text/plain": [
       "Order                   1\n",
       "?Vowel               True\n",
       "Example of fruit    Apple\n",
       "Name: A, dtype: object"
      ]
     },
     "execution_count": 20,
     "metadata": {},
     "output_type": "execute_result"
    }
   ],
   "source": [
    "# access rows using the .loc method and passing in a row label\n",
    "df.loc[\"A\"]"
   ]
  },
  {
   "cell_type": "code",
   "execution_count": 21,
   "id": "7b42c49a-7e8c-4d38-bf93-537836d04008",
   "metadata": {},
   "outputs": [
    {
     "data": {
      "text/plain": [
       "Order                   1\n",
       "?Vowel               True\n",
       "Example of fruit    Apple\n",
       "Name: A, dtype: object"
      ]
     },
     "execution_count": 21,
     "metadata": {},
     "output_type": "execute_result"
    }
   ],
   "source": [
    "# you can also access rows using .iloc and passing in a row integer location\n",
    "df.iloc[0]"
   ]
  },
  {
   "cell_type": "code",
   "execution_count": 22,
   "id": "84415671-01f9-489b-8436-9226e0a635b5",
   "metadata": {},
   "outputs": [
    {
     "data": {
      "text/html": [
       "<div>\n",
       "<style scoped>\n",
       "    .dataframe tbody tr th:only-of-type {\n",
       "        vertical-align: middle;\n",
       "    }\n",
       "\n",
       "    .dataframe tbody tr th {\n",
       "        vertical-align: top;\n",
       "    }\n",
       "\n",
       "    .dataframe thead th {\n",
       "        text-align: right;\n",
       "    }\n",
       "</style>\n",
       "<table border=\"1\" class=\"dataframe\">\n",
       "  <thead>\n",
       "    <tr style=\"text-align: right;\">\n",
       "      <th></th>\n",
       "      <th>Order</th>\n",
       "      <th>?Vowel</th>\n",
       "    </tr>\n",
       "  </thead>\n",
       "  <tbody>\n",
       "    <tr>\n",
       "      <th>A</th>\n",
       "      <td>1</td>\n",
       "      <td>True</td>\n",
       "    </tr>\n",
       "    <tr>\n",
       "      <th>B</th>\n",
       "      <td>2</td>\n",
       "      <td>False</td>\n",
       "    </tr>\n",
       "    <tr>\n",
       "      <th>C</th>\n",
       "      <td>3</td>\n",
       "      <td>False</td>\n",
       "    </tr>\n",
       "  </tbody>\n",
       "</table>\n",
       "</div>"
      ],
      "text/plain": [
       "   Order  ?Vowel\n",
       "A      1    True\n",
       "B      2   False\n",
       "C      3   False"
      ]
     },
     "execution_count": 22,
     "metadata": {},
     "output_type": "execute_result"
    }
   ],
   "source": [
    "# to access all rows for only two columns ( Order and Vowel ), pass a colon as the row\n",
    "# index and a list with the column names to the loc method\n",
    "df.loc[:, [\"Order\", \"?Vowel\"]]"
   ]
  },
  {
   "cell_type": "code",
   "execution_count": 24,
   "id": "6836e165-8606-497e-9346-05bc6e223b76",
   "metadata": {},
   "outputs": [
    {
     "data": {
      "text/html": [
       "<div>\n",
       "<style scoped>\n",
       "    .dataframe tbody tr th:only-of-type {\n",
       "        vertical-align: middle;\n",
       "    }\n",
       "\n",
       "    .dataframe tbody tr th {\n",
       "        vertical-align: top;\n",
       "    }\n",
       "\n",
       "    .dataframe thead th {\n",
       "        text-align: right;\n",
       "    }\n",
       "</style>\n",
       "<table border=\"1\" class=\"dataframe\">\n",
       "  <thead>\n",
       "    <tr style=\"text-align: right;\">\n",
       "      <th></th>\n",
       "      <th>Order</th>\n",
       "      <th>Example of fruit</th>\n",
       "    </tr>\n",
       "  </thead>\n",
       "  <tbody>\n",
       "    <tr>\n",
       "      <th>B</th>\n",
       "      <td>2</td>\n",
       "      <td>Banana</td>\n",
       "    </tr>\n",
       "    <tr>\n",
       "      <th>C</th>\n",
       "      <td>3</td>\n",
       "      <td>Cantaloupe</td>\n",
       "    </tr>\n",
       "  </tbody>\n",
       "</table>\n",
       "</div>"
      ],
      "text/plain": [
       "   Order Example of fruit\n",
       "B      2           Banana\n",
       "C      3       Cantaloupe"
      ]
     },
     "execution_count": 24,
     "metadata": {},
     "output_type": "execute_result"
    }
   ],
   "source": [
    "# to access only rows B and C for columns Order and Example of fruit, pass B:C as the\n",
    "# row index and a list of the column names as the column index to the loc method\n",
    "df.loc[\"B\":\"C\", [\"Order\", \"Example of fruit\"]]"
   ]
  },
  {
   "cell_type": "code",
   "execution_count": 25,
   "id": "a7ceea16-678b-4429-bf63-bb29782bb63d",
   "metadata": {},
   "outputs": [
    {
     "data": {
      "text/html": [
       "<div>\n",
       "<style scoped>\n",
       "    .dataframe tbody tr th:only-of-type {\n",
       "        vertical-align: middle;\n",
       "    }\n",
       "\n",
       "    .dataframe tbody tr th {\n",
       "        vertical-align: top;\n",
       "    }\n",
       "\n",
       "    .dataframe thead th {\n",
       "        text-align: right;\n",
       "    }\n",
       "</style>\n",
       "<table border=\"1\" class=\"dataframe\">\n",
       "  <thead>\n",
       "    <tr style=\"text-align: right;\">\n",
       "      <th></th>\n",
       "      <th>Order</th>\n",
       "      <th>?Vowel</th>\n",
       "      <th>Example of fruit</th>\n",
       "    </tr>\n",
       "  </thead>\n",
       "  <tbody>\n",
       "    <tr>\n",
       "      <th>A</th>\n",
       "      <td>1</td>\n",
       "      <td>True</td>\n",
       "      <td>Apple</td>\n",
       "    </tr>\n",
       "  </tbody>\n",
       "</table>\n",
       "</div>"
      ],
      "text/plain": [
       "   Order  ?Vowel Example of fruit\n",
       "A      1    True            Apple"
      ]
     },
     "execution_count": 25,
     "metadata": {},
     "output_type": "execute_result"
    }
   ],
   "source": [
    "# also can get rows by passing a boolean array to df between square brackets\n",
    "# it will return rows with the index corresponding to the index of True values in the \n",
    "# boolean\n",
    "# Here the 0th index is True and indexes 1 and 2 are False, so it returns a df with only the first row\n",
    "df[[True, False, False]]"
   ]
  },
  {
   "cell_type": "code",
   "execution_count": 26,
   "id": "41c1515a-31c9-4c2a-a3a1-a318a71c536b",
   "metadata": {},
   "outputs": [
    {
     "data": {
      "text/html": [
       "<div>\n",
       "<style scoped>\n",
       "    .dataframe tbody tr th:only-of-type {\n",
       "        vertical-align: middle;\n",
       "    }\n",
       "\n",
       "    .dataframe tbody tr th {\n",
       "        vertical-align: top;\n",
       "    }\n",
       "\n",
       "    .dataframe thead th {\n",
       "        text-align: right;\n",
       "    }\n",
       "</style>\n",
       "<table border=\"1\" class=\"dataframe\">\n",
       "  <thead>\n",
       "    <tr style=\"text-align: right;\">\n",
       "      <th></th>\n",
       "      <th>Order</th>\n",
       "      <th>?Vowel</th>\n",
       "      <th>Example of fruit</th>\n",
       "    </tr>\n",
       "  </thead>\n",
       "  <tbody>\n",
       "    <tr>\n",
       "      <th>A</th>\n",
       "      <td>1</td>\n",
       "      <td>True</td>\n",
       "      <td>Apple</td>\n",
       "    </tr>\n",
       "  </tbody>\n",
       "</table>\n",
       "</div>"
      ],
      "text/plain": [
       "   Order  ?Vowel Example of fruit\n",
       "A      1    True            Apple"
      ]
     },
     "execution_count": 26,
     "metadata": {},
     "output_type": "execute_result"
    }
   ],
   "source": [
    "# get rows where ?Vowel=True\n",
    "df[df[\"?Vowel\"]]"
   ]
  },
  {
   "cell_type": "code",
   "execution_count": 27,
   "id": "df735506-2e2f-497c-bac4-89aa890c3bdd",
   "metadata": {},
   "outputs": [
    {
     "data": {
      "text/html": [
       "<div>\n",
       "<style scoped>\n",
       "    .dataframe tbody tr th:only-of-type {\n",
       "        vertical-align: middle;\n",
       "    }\n",
       "\n",
       "    .dataframe tbody tr th {\n",
       "        vertical-align: top;\n",
       "    }\n",
       "\n",
       "    .dataframe thead th {\n",
       "        text-align: right;\n",
       "    }\n",
       "</style>\n",
       "<table border=\"1\" class=\"dataframe\">\n",
       "  <thead>\n",
       "    <tr style=\"text-align: right;\">\n",
       "      <th></th>\n",
       "      <th>Order</th>\n",
       "      <th>?Vowel</th>\n",
       "      <th>Example of fruit</th>\n",
       "    </tr>\n",
       "  </thead>\n",
       "  <tbody>\n",
       "    <tr>\n",
       "      <th>B</th>\n",
       "      <td>2</td>\n",
       "      <td>False</td>\n",
       "      <td>Banana</td>\n",
       "    </tr>\n",
       "    <tr>\n",
       "      <th>C</th>\n",
       "      <td>3</td>\n",
       "      <td>False</td>\n",
       "      <td>Cantaloupe</td>\n",
       "    </tr>\n",
       "  </tbody>\n",
       "</table>\n",
       "</div>"
      ],
      "text/plain": [
       "   Order  ?Vowel Example of fruit\n",
       "B      2   False           Banana\n",
       "C      3   False       Cantaloupe"
      ]
     },
     "execution_count": 27,
     "metadata": {},
     "output_type": "execute_result"
    }
   ],
   "source": [
    "# get rows where ?Vowel=False ( using the ~ , the logical NOT operator)\n",
    "df[~df[\"?Vowel\"]]"
   ]
  },
  {
   "cell_type": "code",
   "execution_count": 28,
   "id": "0d290665-b6d5-428e-8b59-9805193a1224",
   "metadata": {},
   "outputs": [
    {
     "data": {
      "text/html": [
       "<div>\n",
       "<style scoped>\n",
       "    .dataframe tbody tr th:only-of-type {\n",
       "        vertical-align: middle;\n",
       "    }\n",
       "\n",
       "    .dataframe tbody tr th {\n",
       "        vertical-align: top;\n",
       "    }\n",
       "\n",
       "    .dataframe thead th {\n",
       "        text-align: right;\n",
       "    }\n",
       "</style>\n",
       "<table border=\"1\" class=\"dataframe\">\n",
       "  <thead>\n",
       "    <tr style=\"text-align: right;\">\n",
       "      <th></th>\n",
       "      <th>Order</th>\n",
       "      <th>?Vowel</th>\n",
       "      <th>Example of fruit</th>\n",
       "    </tr>\n",
       "  </thead>\n",
       "  <tbody>\n",
       "    <tr>\n",
       "      <th>B</th>\n",
       "      <td>2</td>\n",
       "      <td>False</td>\n",
       "      <td>Banana</td>\n",
       "    </tr>\n",
       "    <tr>\n",
       "      <th>C</th>\n",
       "      <td>3</td>\n",
       "      <td>False</td>\n",
       "      <td>Cantaloupe</td>\n",
       "    </tr>\n",
       "  </tbody>\n",
       "</table>\n",
       "</div>"
      ],
      "text/plain": [
       "   Order  ?Vowel Example of fruit\n",
       "B      2   False           Banana\n",
       "C      3   False       Cantaloupe"
      ]
     },
     "execution_count": 28,
     "metadata": {},
     "output_type": "execute_result"
    }
   ],
   "source": [
    "# get rows where ?Vowel=False using the numpy package\n",
    "df[np.logical_not(df[\"?Vowel\"])]"
   ]
  },
  {
   "cell_type": "code",
   "execution_count": 29,
   "id": "a7d9c89a-fe78-44c9-a2ee-c9f0c93ea2d9",
   "metadata": {},
   "outputs": [
    {
     "data": {
      "text/plain": [
       "[[1, 2, 3], [4, 5, 6]]"
      ]
     },
     "execution_count": 29,
     "metadata": {},
     "output_type": "execute_result"
    }
   ],
   "source": [
    "# ndarrays: multi-dimensional or n-dimensional array can be constructed using a single\n",
    "# integer, array like object or list\n",
    "# create an ndarray from a nested list\n",
    "a = [[1, 2, 3], [4, 5, 6]]\n",
    "arr = np.array(a)\n",
    "a\n",
    "# will be like a matrix with the arrays stacked"
   ]
  },
  {
   "cell_type": "code",
   "execution_count": 30,
   "id": "31aff76d-198d-45a6-94fd-d355b507a95a",
   "metadata": {},
   "outputs": [
    {
     "data": {
      "text/plain": [
       "(2, 3)"
      ]
     },
     "execution_count": 30,
     "metadata": {},
     "output_type": "execute_result"
    }
   ],
   "source": [
    "# the shape attribute of an ndarray returns a tuple w/ the # of rows and columns\n",
    "arr.shape\n",
    "# returns (2, 3), the 2 is for axis = 0 (vertical/rows) and the 3 is for axis = 1 (horizontal/columns)"
   ]
  },
  {
   "cell_type": "code",
   "execution_count": 32,
   "id": "307b2214-7a23-44f7-ad47-66994c1002b2",
   "metadata": {},
   "outputs": [
    {
     "data": {
      "text/plain": [
       "6"
      ]
     },
     "execution_count": 32,
     "metadata": {},
     "output_type": "execute_result"
    }
   ],
   "source": [
    "# get maximum value from array\n",
    "# default returns maximum from flattened array, meaning as if all values were in one row\n",
    "arr.max()"
   ]
  },
  {
   "cell_type": "code",
   "execution_count": 33,
   "id": "6a7489ed-9316-4ac1-ac28-0a10bb2eb3f9",
   "metadata": {},
   "outputs": [
    {
     "data": {
      "text/plain": [
       "array([4, 5, 6])"
      ]
     },
     "execution_count": 33,
     "metadata": {},
     "output_type": "execute_result"
    }
   ],
   "source": [
    "# to get maximum value along axis=0, will compare values along axis=0 for each column\n",
    "# to determine the maximum\n",
    "arr.max(axis=0)\n",
    "# array looks like: \n",
    "# [1, 2, 3]\n",
    "#[4, 5, 6], it compares, 1 and 4, 2 and 5, 3 and 6 and then returns the higher value of each comparison"
   ]
  },
  {
   "cell_type": "code",
   "execution_count": 35,
   "id": "cc84d28b-506d-4882-b7cf-661b355011fb",
   "metadata": {},
   "outputs": [
    {
     "data": {
      "text/plain": [
       "array([3, 6])"
      ]
     },
     "execution_count": 35,
     "metadata": {},
     "output_type": "execute_result"
    }
   ],
   "source": [
    "# to get maximum along axis=1\n",
    "arr.max(axis=1)\n",
    "# returns array([3, 6])\n",
    "# in the first row along axis=1, the max is 3\n",
    "# in the second row along axis=1, the max is 6"
   ]
  },
  {
   "cell_type": "code",
   "execution_count": 36,
   "id": "e5c01368-2927-4872-b178-ab55299e33db",
   "metadata": {},
   "outputs": [
    {
     "data": {
      "text/plain": [
       "1"
      ]
     },
     "execution_count": 36,
     "metadata": {},
     "output_type": "execute_result"
    }
   ],
   "source": [
    "# to get minimum value of flattened ndarray\n",
    "arr.min()"
   ]
  },
  {
   "cell_type": "code",
   "execution_count": 37,
   "id": "445ac6de-19c3-4b0d-b729-bf90bf89b67a",
   "metadata": {},
   "outputs": [
    {
     "data": {
      "text/plain": [
       "array([1, 2, 3])"
      ]
     },
     "execution_count": 37,
     "metadata": {},
     "output_type": "execute_result"
    }
   ],
   "source": [
    "# to get minima along axis=0\n",
    "arr.min(axis=0)"
   ]
  },
  {
   "cell_type": "code",
   "execution_count": 38,
   "id": "b35a2b47-f8e0-4f80-9ecf-4587fcd05feb",
   "metadata": {},
   "outputs": [
    {
     "data": {
      "text/plain": [
       "3.5"
      ]
     },
     "execution_count": 38,
     "metadata": {},
     "output_type": "execute_result"
    }
   ],
   "source": [
    "# mean of flattened ndarray\n",
    "arr.mean()"
   ]
  },
  {
   "cell_type": "code",
   "execution_count": 39,
   "id": "f8cf4900-e056-4dc2-9ede-e1e2314605a0",
   "metadata": {},
   "outputs": [
    {
     "data": {
      "text/plain": [
       "array([2.5, 3.5, 4.5])"
      ]
     },
     "execution_count": 39,
     "metadata": {},
     "output_type": "execute_result"
    }
   ],
   "source": [
    "# mean along axis=0\n",
    "arr.mean(axis=0)"
   ]
  },
  {
   "cell_type": "code",
   "execution_count": 40,
   "id": "888e2b02-d604-474f-b61e-cf2cc1bfbd34",
   "metadata": {},
   "outputs": [
    {
     "data": {
      "text/plain": [
       "array([2., 5.])"
      ]
     },
     "execution_count": 40,
     "metadata": {},
     "output_type": "execute_result"
    }
   ],
   "source": [
    "# mean along axis=1\n",
    "arr.mean(axis=1)"
   ]
  },
  {
   "cell_type": "code",
   "execution_count": 42,
   "id": "3f9f60a1-1399-4913-b309-043323a0348e",
   "metadata": {},
   "outputs": [
    {
     "data": {
      "text/plain": [
       "array([2, 4, 6])"
      ]
     },
     "execution_count": 42,
     "metadata": {},
     "output_type": "execute_result"
    }
   ],
   "source": [
    "# operations between array and scalar ( the scalar is broadcasted to each element of array\n",
    "arr = np.array([1, 2, 3])\n",
    "b = 2\n",
    "arr * b"
   ]
  },
  {
   "cell_type": "code",
   "execution_count": 43,
   "id": "58e9cab3-0779-4a5c-947a-1e28c2f03fff",
   "metadata": {},
   "outputs": [
    {
     "data": {
      "text/plain": [
       "array([[ 1,  4,  9],\n",
       "       [16, 25, 36]])"
      ]
     },
     "execution_count": 43,
     "metadata": {},
     "output_type": "execute_result"
    }
   ],
   "source": [
    "# exopnentiation btwn array and scalar\n",
    "a = [[1, 2, 3], [4, 5, 6]]\n",
    "arr = np.array(a)\n",
    "arr ** 2\n"
   ]
  },
  {
   "cell_type": "code",
   "execution_count": 45,
   "id": "7a91d46a-fa87-4558-8418-9caeef952c0e",
   "metadata": {},
   "outputs": [
    {
     "data": {
      "text/plain": [
       "array([[1, 2],\n",
       "       [1, 2]])"
      ]
     },
     "execution_count": 45,
     "metadata": {},
     "output_type": "execute_result"
    }
   ],
   "source": [
    "# Broadcasting only works if btwn two arrays if they have either equal trailing axes\n",
    "# or one of the trailing axis is 1\n",
    "# trailing axes = counting the axis from the end of the shape, the y value in (x, y)\n",
    "# create a 2 x 2 array\n",
    "arr2 = np.array([[1, 2], [1,2]])\n",
    "arr2.shape\n",
    "arr2"
   ]
  },
  {
   "cell_type": "code",
   "execution_count": 48,
   "id": "4705ae27-676a-428c-86b8-c3bec7e36d78",
   "metadata": {},
   "outputs": [
    {
     "data": {
      "text/plain": [
       "(2, 3)"
      ]
     },
     "execution_count": 48,
     "metadata": {},
     "output_type": "execute_result"
    }
   ],
   "source": [
    "# view other array size\n",
    "arr.shape"
   ]
  },
  {
   "cell_type": "code",
   "execution_count": 49,
   "id": "72645956-aa00-4619-9066-21d7c09ab51d",
   "metadata": {},
   "outputs": [
    {
     "ename": "ValueError",
     "evalue": "operands could not be broadcast together with shapes (2,2) (2,3) ",
     "output_type": "error",
     "traceback": [
      "\u001b[0;31m---------------------------------------------------------------------------\u001b[0m",
      "\u001b[0;31mValueError\u001b[0m                                Traceback (most recent call last)",
      "Cell \u001b[0;32mIn[49], line 3\u001b[0m\n\u001b[1;32m      1\u001b[0m \u001b[38;5;66;03m# error: add two arrays with incomplatible trailing dimensions\u001b[39;00m\n\u001b[1;32m      2\u001b[0m \u001b[38;5;66;03m# will get error because of broadcasting rules\u001b[39;00m\n\u001b[0;32m----> 3\u001b[0m arr2 \u001b[38;5;241m+\u001b[39m arr\n",
      "\u001b[0;31mValueError\u001b[0m: operands could not be broadcast together with shapes (2,2) (2,3) "
     ]
    }
   ],
   "source": [
    "# error: add two arrays with incomplatible trailing dimensions\n",
    "# will get error because of broadcasting rules\n",
    "arr2 + arr"
   ]
  },
  {
   "cell_type": "code",
   "execution_count": 50,
   "id": "39c22770-5ca2-4bb5-8346-ac47c85bfa34",
   "metadata": {},
   "outputs": [
    {
     "data": {
      "text/plain": [
       "(1, 3)"
      ]
     },
     "execution_count": 50,
     "metadata": {},
     "output_type": "execute_result"
    }
   ],
   "source": [
    "# create a 1 x 3 array ( will be compatible with the (2, 3) array, the last dimension is\n",
    "# equal and the first dimension is 1\n",
    "arr2 = np.array([[1, 2, 3]])\n",
    "arr2.shape"
   ]
  },
  {
   "cell_type": "code",
   "execution_count": 51,
   "id": "6842d129-ee7f-41dd-8c1f-8280b09b9192",
   "metadata": {},
   "outputs": [
    {
     "data": {
      "text/plain": [
       "array([[2, 4, 6],\n",
       "       [5, 7, 9]])"
      ]
     },
     "execution_count": 51,
     "metadata": {},
     "output_type": "execute_result"
    }
   ],
   "source": [
    "# add 2 arrays with compatible trailing dimensions, top row gets added to top row\n",
    "arr + arr2"
   ]
  },
  {
   "cell_type": "code",
   "execution_count": 52,
   "id": "ef409b89-072d-4a43-9ff3-525117ecfffa",
   "metadata": {},
   "outputs": [
    {
     "data": {
      "text/plain": [
       "array([[1, 2, 3],\n",
       "       [4, 5, 6]])"
      ]
     },
     "execution_count": 52,
     "metadata": {},
     "output_type": "execute_result"
    }
   ],
   "source": [
    "arr"
   ]
  },
  {
   "cell_type": "code",
   "execution_count": 53,
   "id": "d21ed77e-aafa-418d-b9ea-15e9a9a9397a",
   "metadata": {},
   "outputs": [
    {
     "data": {
      "text/plain": [
       "array([[1, 2, 3]])"
      ]
     },
     "execution_count": 53,
     "metadata": {},
     "output_type": "execute_result"
    }
   ],
   "source": [
    "arr2"
   ]
  },
  {
   "cell_type": "code",
   "execution_count": 54,
   "id": "399e39c5-8cd8-4b03-8455-3e092827f240",
   "metadata": {},
   "outputs": [
    {
     "data": {
      "text/plain": [
       "(2, 3)"
      ]
     },
     "execution_count": 54,
     "metadata": {},
     "output_type": "execute_result"
    }
   ],
   "source": [
    "arr.shape"
   ]
  },
  {
   "cell_type": "code",
   "execution_count": 56,
   "id": "aa6431bf-a530-4a52-a1ed-a41a5875b0dc",
   "metadata": {},
   "outputs": [
    {
     "data": {
      "text/plain": [
       "array([[0., 0., 0., 0.],\n",
       "       [0., 0., 0., 0.],\n",
       "       [0., 0., 0., 0.],\n",
       "       [0., 0., 0., 0.]])"
      ]
     },
     "execution_count": 56,
     "metadata": {},
     "output_type": "execute_result"
    }
   ],
   "source": [
    "# sometime you need to create an ndarray with a predetermined shape that you will update with values\n",
    "# np.zeros() : creates an ndarray of a given shape filled with zeros, the shape is given as a tuple\n",
    "# create a 4 x 4 ndarray of zeros\n",
    "np.zeros((4, 4))"
   ]
  },
  {
   "cell_type": "code",
   "execution_count": 57,
   "id": "8f7c6e7b-74bb-441b-a055-34dfb2895874",
   "metadata": {},
   "outputs": [
    {
     "data": {
      "text/plain": [
       "array([[False, False, False, False],\n",
       "       [False, False, False, False],\n",
       "       [False, False, False, False],\n",
       "       [False, False, False, False]])"
      ]
     },
     "execution_count": 57,
     "metadata": {},
     "output_type": "execute_result"
    }
   ],
   "source": [
    "# create a 4 x 4 ndarray of zero-like values, with data type boolean\n",
    "np.zeros((4, 4), dtype=bool)\n"
   ]
  },
  {
   "cell_type": "code",
   "execution_count": 58,
   "id": "106b5e30-4d6c-452f-bd74-78d43159e2fe",
   "metadata": {},
   "outputs": [
    {
     "data": {
      "text/plain": [
       "array([[1., 1., 1., 1.],\n",
       "       [1., 1., 1., 1.],\n",
       "       [1., 1., 1., 1.],\n",
       "       [1., 1., 1., 1.]])"
      ]
     },
     "execution_count": 58,
     "metadata": {},
     "output_type": "execute_result"
    }
   ],
   "source": [
    "# create a 4 x 4 ndarray of ones\n",
    "np.ones((4, 4))"
   ]
  },
  {
   "cell_type": "code",
   "execution_count": 59,
   "id": "51e5e37a-aa3a-4fcf-af61-5c871388846b",
   "metadata": {},
   "outputs": [
    {
     "data": {
      "text/plain": [
       "array([[ True,  True,  True,  True],\n",
       "       [ True,  True,  True,  True],\n",
       "       [ True,  True,  True,  True],\n",
       "       [ True,  True,  True,  True]])"
      ]
     },
     "execution_count": 59,
     "metadata": {},
     "output_type": "execute_result"
    }
   ],
   "source": [
    "#create a 4 x 4 ndarray of one-like value\n",
    "np.ones((4, 4), dtype=bool)"
   ]
  }
 ],
 "metadata": {
  "kernelspec": {
   "display_name": "Python 3 (ipykernel)",
   "language": "python",
   "name": "python3"
  },
  "language_info": {
   "codemirror_mode": {
    "name": "ipython",
    "version": 3
   },
   "file_extension": ".py",
   "mimetype": "text/x-python",
   "name": "python",
   "nbconvert_exporter": "python",
   "pygments_lexer": "ipython3",
   "version": "3.11.7"
  }
 },
 "nbformat": 4,
 "nbformat_minor": 5
}
