{
 "cells": [
  {
   "cell_type": "code",
   "execution_count": null,
   "id": "c991ca46-a3f6-435d-834a-7adf81b7d161",
   "metadata": {},
   "outputs": [],
   "source": [
    "# Lesson notes 2024-04-08\n",
    "# Python Deep Dive Day 1"
   ]
  },
  {
   "cell_type": "code",
   "execution_count": 1,
   "id": "4c1aec2a-59a7-4e8a-a490-b2be438d92ba",
   "metadata": {},
   "outputs": [
    {
     "name": "stdout",
     "output_type": "stream",
     "text": [
      "Hello World\n"
     ]
    }
   ],
   "source": [
    "print(\"Hello World\")"
   ]
  },
  {
   "cell_type": "markdown",
   "id": "2bbc6c9f-76d1-40f4-9200-d195dc79922b",
   "metadata": {},
   "source": [
    "# Intro to Python"
   ]
  },
  {
   "cell_type": "code",
   "execution_count": 3,
   "id": "ab1c6332-69e7-47ce-9d15-feb05d36c4a8",
   "metadata": {},
   "outputs": [
    {
     "name": "stdout",
     "output_type": "stream",
     "text": [
      "x: 10\n",
      "name: Alice\n"
     ]
    }
   ],
   "source": [
    "# Code Demo\n",
    "x = 10\n",
    "name = \"Alice\"\n",
    "print(\"x:\", x)\n",
    "print(\"name:\", name)"
   ]
  },
  {
   "cell_type": "markdown",
   "id": "fbb0e95a-d124-4bf0-ad86-333d6ead7121",
   "metadata": {},
   "source": [
    "# Generating visualizations"
   ]
  },
  {
   "cell_type": "code",
   "execution_count": 5,
   "id": "57a6610c-ed5e-4102-9f95-4114b8c5aece",
   "metadata": {},
   "outputs": [],
   "source": [
    "x = 5       # Integer\n",
    "x = \"Hello\" # String\n"
   ]
  },
  {
   "cell_type": "code",
   "execution_count": 6,
   "id": "2de0de73-6496-4e5f-8908-746be9ac52f5",
   "metadata": {},
   "outputs": [],
   "source": [
    "x = 5       # Integer\n",
    "y = \"Hello\" # String"
   ]
  },
  {
   "cell_type": "code",
   "execution_count": 7,
   "id": "c7058058-9efd-48a9-8033-841e96287425",
   "metadata": {},
   "outputs": [
    {
     "name": "stdout",
     "output_type": "stream",
     "text": [
      "5\n"
     ]
    }
   ],
   "source": [
    "print(x)"
   ]
  },
  {
   "cell_type": "code",
   "execution_count": 8,
   "id": "a7788940-92f7-4f81-9c40-c9c4c71aa136",
   "metadata": {},
   "outputs": [
    {
     "name": "stdout",
     "output_type": "stream",
     "text": [
      "Integer: 10\n",
      "Float: 10.5\n",
      "String: Hello World\n",
      "Boolean: True\n"
     ]
    }
   ],
   "source": [
    "# Code Demo\n",
    "integer_var = 10\n",
    "float_var = 10.5\n",
    "string_var = \"Hello World\"\n",
    "boolean_var = True\n",
    "\n",
    "print(\"Integer:\", integer_var)\n",
    "print(\"Float:\", float_var)\n",
    "print(\"String:\", string_var)\n",
    "print(\"Boolean:\", boolean_var)"
   ]
  },
  {
   "cell_type": "code",
   "execution_count": 9,
   "id": "8b57a109-88f3-46ef-8493-49970adf5556",
   "metadata": {},
   "outputs": [
    {
     "name": "stdout",
     "output_type": "stream",
     "text": [
      "Addition: 13\n",
      "Subtraction: 7\n",
      "Multiplication: 30\n",
      "Division: 3.3333333333333335\n"
     ]
    }
   ],
   "source": [
    "# Code Demo\n",
    "a = 10\n",
    "b = 3\n",
    "\n",
    "print(\"Addition:\", a + b)\n",
    "print(\"Subtraction:\", a - b)\n",
    "print(\"Multiplication:\", a * b)\n",
    "print(\"Division:\", a / b)"
   ]
  },
  {
   "cell_type": "code",
   "execution_count": 10,
   "id": "9968cbb1-b1bd-487d-94f7-8e7a7862e152",
   "metadata": {},
   "outputs": [
    {
     "name": "stdout",
     "output_type": "stream",
     "text": [
      "Both conditions are true.\n"
     ]
    }
   ],
   "source": [
    "# Code Demo\n",
    "x = 10\n",
    "y = 20\n",
    "\n",
    "if x > 5 and y > 15:\n",
    "    print(\"Both conditions are true.\")"
   ]
  },
  {
   "cell_type": "code",
   "execution_count": 11,
   "id": "10ac7388-6e3f-4ef3-a483-0f43c7af114c",
   "metadata": {},
   "outputs": [
    {
     "name": "stdout",
     "output_type": "stream",
     "text": [
      "x is greater than 5.\n"
     ]
    }
   ],
   "source": [
    "x = 10\n",
    "if x > 5:\n",
    "    print(\"x is greater than 5.\")"
   ]
  },
  {
   "cell_type": "code",
   "execution_count": null,
   "id": "d2f140d7-77d5-435a-a3f7-3cbb5f264c45",
   "metadata": {},
   "outputs": [],
   "source": [
    "# Code Demo\n",
    "x = 10\n",
    "y = 20\n",
    "\n",
    "if (x > 5) & (y > 15):\n",
    "    print(\"Both conditions are true.\")\n",
    "    \n",
    "if x > 5 and y > 15:\n",
    "    print(\"Both conditions are true.\")\n",
    "    \n",
    "if x > 5 or y > 15:\n",
    "    print(\"Both conditions are true.\")\n",
    "\n",
    "if (x > 5) | (y > 15):\n",
    "    print(\"Both conditions are true.\")"
   ]
  },
  {
   "cell_type": "code",
   "execution_count": 23,
   "id": "9222ce28-ba5b-4d9f-a5e0-52041b96e485",
   "metadata": {},
   "outputs": [
    {
     "name": "stdout",
     "output_type": "stream",
     "text": [
      "x is greater than 5.\n"
     ]
    }
   ],
   "source": [
    "x = 10\n",
    "if x > 5:\n",
    "    print(\"x is greater than 5.\")"
   ]
  },
  {
   "cell_type": "code",
   "execution_count": 24,
   "id": "125a08a7-b3b8-45df-952c-7b4bb22847ae",
   "metadata": {},
   "outputs": [
    {
     "name": "stdout",
     "output_type": "stream",
     "text": [
      "It's not hot outside.\n"
     ]
    }
   ],
   "source": [
    "temperature = 25\n",
    "\n",
    "if temperature > 30:\n",
    "    print(\"It's hot outside.\")\n",
    "else:\n",
    "    print(\"It's not hot outside.\")"
   ]
  },
  {
   "cell_type": "code",
   "execution_count": 26,
   "id": "0f88580b-e4c3-4fee-bda0-f34b7f9a61ef",
   "metadata": {},
   "outputs": [
    {
     "name": "stdout",
     "output_type": "stream",
     "text": [
      "C grade\n"
     ]
    }
   ],
   "source": [
    "# Code Demo\n",
    "score = 75\n",
    "if score >= 90:\n",
    "    print(\"A grade\")\n",
    "elif score >= 80:\n",
    "    print(\"B grade\")\n",
    "elif score >= 70:\n",
    "    print(\"C grade\")\n",
    "else:\n",
    "    print(\"Below B grade\")"
   ]
  },
  {
   "cell_type": "code",
   "execution_count": 27,
   "id": "40814716-1505-4afa-bab5-cecb40dd722a",
   "metadata": {},
   "outputs": [
    {
     "name": "stdout",
     "output_type": "stream",
     "text": [
      "apple\n",
      "banana\n",
      "cherry\n"
     ]
    }
   ],
   "source": [
    "# Code Demo\n",
    "fruits = [\"apple\", \"banana\", \"cherry\"]\n",
    "\n",
    "for fruit in fruits:\n",
    "    print(fruit)"
   ]
  },
  {
   "cell_type": "code",
   "execution_count": 28,
   "id": "44ca2d74-6a40-4ca0-ac78-0fb75e640919",
   "metadata": {},
   "outputs": [
    {
     "name": "stdout",
     "output_type": "stream",
     "text": [
      "1\n",
      "2\n",
      "3\n",
      "4\n",
      "5\n"
     ]
    }
   ],
   "source": [
    "# Code Demo\n",
    "i = 1\n",
    "while i < 6:\n",
    "    print(i)\n",
    "    i += 1"
   ]
  },
  {
   "cell_type": "code",
   "execution_count": 29,
   "id": "b907fdda-83e9-4ccc-b4d9-0e5331b4a7fd",
   "metadata": {},
   "outputs": [
    {
     "name": "stdout",
     "output_type": "stream",
     "text": [
      "0\n",
      "1\n",
      "2\n"
     ]
    }
   ],
   "source": [
    "# Code Demo\n",
    "for i in range(5):\n",
    "    if i == 3:\n",
    "        break\n",
    "    print(i)"
   ]
  }
 ],
 "metadata": {
  "kernelspec": {
   "display_name": "Python 3 (ipykernel)",
   "language": "python",
   "name": "python3"
  },
  "language_info": {
   "codemirror_mode": {
    "name": "ipython",
    "version": 3
   },
   "file_extension": ".py",
   "mimetype": "text/x-python",
   "name": "python",
   "nbconvert_exporter": "python",
   "pygments_lexer": "ipython3",
   "version": "3.11.7"
  }
 },
 "nbformat": 4,
 "nbformat_minor": 5
}
