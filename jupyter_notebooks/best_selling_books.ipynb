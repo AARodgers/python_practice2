{
 "cells": [
  {
   "cell_type": "markdown",
   "id": "f700ce17",
   "metadata": {},
   "source": [
    "Amanda Rodgers\n",
    "May 10, 2024\n",
    "Best Selling Books \n",
    "Statistics Practice"
   ]
  },
  {
   "cell_type": "code",
   "execution_count": 1,
   "id": "a4e4e734",
   "metadata": {},
   "outputs": [],
   "source": [
    "# import modules \n",
    "import matplotlib.pyplot as mp \n",
    "import pandas as pd \n",
    "import seaborn as sb"
   ]
  },
  {
   "cell_type": "code",
   "execution_count": 2,
   "id": "3feb2e0a",
   "metadata": {},
   "outputs": [],
   "source": [
    "# import file with data \n",
    "data = pd.read_csv(\"/Users/amandarodgers/Documents/Data_Bootcamp/Python/data_sets/bestsellers.csv\")"
   ]
  }
 ],
 "metadata": {
  "kernelspec": {
   "display_name": "Python 3 (ipykernel)",
   "language": "python",
   "name": "python3"
  },
  "language_info": {
   "codemirror_mode": {
    "name": "ipython",
    "version": 3
   },
   "file_extension": ".py",
   "mimetype": "text/x-python",
   "name": "python",
   "nbconvert_exporter": "python",
   "pygments_lexer": "ipython3",
   "version": "3.11.7"
  }
 },
 "nbformat": 4,
 "nbformat_minor": 5
}
